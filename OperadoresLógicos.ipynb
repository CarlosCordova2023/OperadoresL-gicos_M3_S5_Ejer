{
  "nbformat": 4,
  "nbformat_minor": 0,
  "metadata": {
    "colab": {
      "provenance": [],
      "authorship_tag": "ABX9TyOQY+bUWcXbQS7cDmA/00nk",
      "include_colab_link": true
    },
    "kernelspec": {
      "name": "python3",
      "display_name": "Python 3"
    },
    "language_info": {
      "name": "python"
    }
  },
  "cells": [
    {
      "cell_type": "markdown",
      "metadata": {
        "id": "view-in-github",
        "colab_type": "text"
      },
      "source": [
        "<a href=\"https://colab.research.google.com/github/CarlosCordova2023/OperadoresL-gicos_M3_S5_Ejer/blob/main/OperadoresL%C3%B3gicos.ipynb\" target=\"_parent\"><img src=\"https://colab.research.google.com/assets/colab-badge.svg\" alt=\"Open In Colab\"/></a>"
      ]
    },
    {
      "cell_type": "code",
      "execution_count": 1,
      "metadata": {
        "colab": {
          "base_uri": "https://localhost:8080/"
        },
        "id": "4lTn43KTPymH",
        "outputId": "9f44b641-abc9-41db-bd10-740a19fefedd"
      },
      "outputs": [
        {
          "output_type": "stream",
          "name": "stdout",
          "text": [
            "El factorial de 4 es: 24\n"
          ]
        }
      ],
      "source": [
        "\n",
        "import math\n",
        "\n",
        "n = 4\n",
        "\n",
        "\n",
        "factorial = math.factorial(n)\n",
        "\n",
        "# Imprimimos el resultado en pantalla\n",
        "print(\"El factorial de\", n, \"es:\", factorial)\n"
      ]
    }
  ]
}